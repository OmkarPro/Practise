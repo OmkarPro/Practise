{
 "cells": [
  {
   "cell_type": "code",
   "execution_count": 1,
   "metadata": {
    "executionInfo": {
     "elapsed": 2239,
     "status": "ok",
     "timestamp": 1614530555328,
     "user": {
      "displayName": "Rutuja Vaidya",
      "photoUrl": "",
      "userId": "03357760852004195505"
     },
     "user_tz": -330
    },
    "id": "aElTQ0HG6fkH"
   },
   "outputs": [],
   "source": [
    "import numpy as np\n",
    "import pandas as pd\n",
    "import warnings\n",
    "import seaborn as sns #for Plotting Graphs\n",
    "import matplotlib.pyplot as plt\n",
    "warnings.filterwarnings(\"ignore\")"
   ]
  },
  {
   "cell_type": "code",
   "execution_count": 2,
   "metadata": {
    "colab": {
     "base_uri": "https://localhost:8080/",
     "height": 439
    },
    "executionInfo": {
     "elapsed": 3390,
     "status": "ok",
     "timestamp": 1614530559917,
     "user": {
      "displayName": "Rutuja Vaidya",
      "photoUrl": "",
      "userId": "03357760852004195505"
     },
     "user_tz": -330
    },
    "id": "004ppXzR6kCW",
    "outputId": "df4e2e08-b948-4b81-e73d-4e818034d19b"
   },
   "outputs": [
    {
     "data": {
      "text/html": [
       "<div>\n",
       "<style scoped>\n",
       "    .dataframe tbody tr th:only-of-type {\n",
       "        vertical-align: middle;\n",
       "    }\n",
       "\n",
       "    .dataframe tbody tr th {\n",
       "        vertical-align: top;\n",
       "    }\n",
       "\n",
       "    .dataframe thead th {\n",
       "        text-align: right;\n",
       "    }\n",
       "</style>\n",
       "<table border=\"1\" class=\"dataframe\">\n",
       "  <thead>\n",
       "    <tr style=\"text-align: right;\">\n",
       "      <th></th>\n",
       "      <th>Case_No</th>\n",
       "      <th>Gender</th>\n",
       "      <th>Age</th>\n",
       "      <th>S1_Cough</th>\n",
       "      <th>S2_Fever</th>\n",
       "      <th>S3_Dyspnea</th>\n",
       "      <th>S4_Pneumonia</th>\n",
       "      <th>S5_Asthenia</th>\n",
       "      <th>pO2</th>\n",
       "      <th>Temperature</th>\n",
       "      <th>Contact_with_COVID_positive_patient</th>\n",
       "      <th>Swab_test_result</th>\n",
       "      <th>Risk_of_contracting_virus</th>\n",
       "    </tr>\n",
       "  </thead>\n",
       "  <tbody>\n",
       "    <tr>\n",
       "      <th>0</th>\n",
       "      <td>1</td>\n",
       "      <td>M</td>\n",
       "      <td>80.0</td>\n",
       "      <td>No</td>\n",
       "      <td>Yes</td>\n",
       "      <td>Yes</td>\n",
       "      <td>NaN</td>\n",
       "      <td>NaN</td>\n",
       "      <td>NaN</td>\n",
       "      <td>NaN</td>\n",
       "      <td>NaN</td>\n",
       "      <td>Positive</td>\n",
       "      <td>Yes</td>\n",
       "    </tr>\n",
       "    <tr>\n",
       "      <th>1</th>\n",
       "      <td>2</td>\n",
       "      <td>M</td>\n",
       "      <td>62.0</td>\n",
       "      <td>Yes</td>\n",
       "      <td>Yes</td>\n",
       "      <td>No</td>\n",
       "      <td>NaN</td>\n",
       "      <td>Yes</td>\n",
       "      <td>97.0</td>\n",
       "      <td>NaN</td>\n",
       "      <td>NaN</td>\n",
       "      <td>Positive</td>\n",
       "      <td>Yes</td>\n",
       "    </tr>\n",
       "    <tr>\n",
       "      <th>2</th>\n",
       "      <td>3</td>\n",
       "      <td>M</td>\n",
       "      <td>57.0</td>\n",
       "      <td>Yes</td>\n",
       "      <td>Yes</td>\n",
       "      <td>No</td>\n",
       "      <td>NaN</td>\n",
       "      <td>NaN</td>\n",
       "      <td>NaN</td>\n",
       "      <td>NaN</td>\n",
       "      <td>NaN</td>\n",
       "      <td>Positive</td>\n",
       "      <td>Yes</td>\n",
       "    </tr>\n",
       "    <tr>\n",
       "      <th>3</th>\n",
       "      <td>4</td>\n",
       "      <td>M</td>\n",
       "      <td>45.0</td>\n",
       "      <td>Yes</td>\n",
       "      <td>Yes</td>\n",
       "      <td>No</td>\n",
       "      <td>NaN</td>\n",
       "      <td>NaN</td>\n",
       "      <td>NaN</td>\n",
       "      <td>NaN</td>\n",
       "      <td>NaN</td>\n",
       "      <td>Positive</td>\n",
       "      <td>Yes</td>\n",
       "    </tr>\n",
       "    <tr>\n",
       "      <th>4</th>\n",
       "      <td>5</td>\n",
       "      <td>M</td>\n",
       "      <td>63.0</td>\n",
       "      <td>Yes</td>\n",
       "      <td>Yes</td>\n",
       "      <td>No</td>\n",
       "      <td>NaN</td>\n",
       "      <td>NaN</td>\n",
       "      <td>NaN</td>\n",
       "      <td>NaN</td>\n",
       "      <td>NaN</td>\n",
       "      <td>Positive</td>\n",
       "      <td>Yes</td>\n",
       "    </tr>\n",
       "    <tr>\n",
       "      <th>...</th>\n",
       "      <td>...</td>\n",
       "      <td>...</td>\n",
       "      <td>...</td>\n",
       "      <td>...</td>\n",
       "      <td>...</td>\n",
       "      <td>...</td>\n",
       "      <td>...</td>\n",
       "      <td>...</td>\n",
       "      <td>...</td>\n",
       "      <td>...</td>\n",
       "      <td>...</td>\n",
       "      <td>...</td>\n",
       "      <td>...</td>\n",
       "    </tr>\n",
       "    <tr>\n",
       "      <th>62</th>\n",
       "      <td>63</td>\n",
       "      <td>M</td>\n",
       "      <td>57.0</td>\n",
       "      <td>Yes</td>\n",
       "      <td>Yes</td>\n",
       "      <td>Yes</td>\n",
       "      <td>Yes</td>\n",
       "      <td>NaN</td>\n",
       "      <td>90.0</td>\n",
       "      <td>39.0</td>\n",
       "      <td>No</td>\n",
       "      <td>Positive</td>\n",
       "      <td>Yes</td>\n",
       "    </tr>\n",
       "    <tr>\n",
       "      <th>63</th>\n",
       "      <td>64</td>\n",
       "      <td>M</td>\n",
       "      <td>74.0</td>\n",
       "      <td>No</td>\n",
       "      <td>No</td>\n",
       "      <td>No</td>\n",
       "      <td>Yes</td>\n",
       "      <td>NaN</td>\n",
       "      <td>94.0</td>\n",
       "      <td>NaN</td>\n",
       "      <td>Yes</td>\n",
       "      <td>Positive</td>\n",
       "      <td>Yes</td>\n",
       "    </tr>\n",
       "    <tr>\n",
       "      <th>64</th>\n",
       "      <td>65</td>\n",
       "      <td>F</td>\n",
       "      <td>71.0</td>\n",
       "      <td>No</td>\n",
       "      <td>Yes</td>\n",
       "      <td>Yes</td>\n",
       "      <td>NaN</td>\n",
       "      <td>NaN</td>\n",
       "      <td>93.0</td>\n",
       "      <td>NaN</td>\n",
       "      <td>Yes</td>\n",
       "      <td>Positive</td>\n",
       "      <td>Yes</td>\n",
       "    </tr>\n",
       "    <tr>\n",
       "      <th>65</th>\n",
       "      <td>66</td>\n",
       "      <td>M</td>\n",
       "      <td>83.0</td>\n",
       "      <td>Yes</td>\n",
       "      <td>Yes</td>\n",
       "      <td>No</td>\n",
       "      <td>NaN</td>\n",
       "      <td>NaN</td>\n",
       "      <td>95.0</td>\n",
       "      <td>NaN</td>\n",
       "      <td>NaN</td>\n",
       "      <td>Positive</td>\n",
       "      <td>Yes</td>\n",
       "    </tr>\n",
       "    <tr>\n",
       "      <th>66</th>\n",
       "      <td>67</td>\n",
       "      <td>M</td>\n",
       "      <td>77.0</td>\n",
       "      <td>No</td>\n",
       "      <td>No</td>\n",
       "      <td>No</td>\n",
       "      <td>NaN</td>\n",
       "      <td>NaN</td>\n",
       "      <td>109.0</td>\n",
       "      <td>39.0</td>\n",
       "      <td>Yes</td>\n",
       "      <td>Positive</td>\n",
       "      <td>Yes</td>\n",
       "    </tr>\n",
       "  </tbody>\n",
       "</table>\n",
       "<p>67 rows × 13 columns</p>\n",
       "</div>"
      ],
      "text/plain": [
       "    Case_No Gender   Age S1_Cough S2_Fever S3_Dyspnea S4_Pneumonia  \\\n",
       "0         1      M  80.0       No      Yes        Yes          NaN   \n",
       "1         2      M  62.0      Yes      Yes         No          NaN   \n",
       "2         3      M  57.0      Yes      Yes         No          NaN   \n",
       "3         4      M  45.0      Yes      Yes         No          NaN   \n",
       "4         5      M  63.0      Yes      Yes         No          NaN   \n",
       "..      ...    ...   ...      ...      ...        ...          ...   \n",
       "62       63      M  57.0      Yes      Yes        Yes          Yes   \n",
       "63       64      M  74.0       No       No         No          Yes   \n",
       "64       65      F  71.0       No      Yes        Yes          NaN   \n",
       "65       66      M  83.0      Yes      Yes         No          NaN   \n",
       "66       67      M  77.0       No       No         No          NaN   \n",
       "\n",
       "   S5_Asthenia    pO2  Temperature Contact_with_COVID_positive_patient  \\\n",
       "0          NaN    NaN          NaN                                 NaN   \n",
       "1          Yes   97.0          NaN                                 NaN   \n",
       "2          NaN    NaN          NaN                                 NaN   \n",
       "3          NaN    NaN          NaN                                 NaN   \n",
       "4          NaN    NaN          NaN                                 NaN   \n",
       "..         ...    ...          ...                                 ...   \n",
       "62         NaN   90.0         39.0                                  No   \n",
       "63         NaN   94.0          NaN                                 Yes   \n",
       "64         NaN   93.0          NaN                                 Yes   \n",
       "65         NaN   95.0          NaN                                 NaN   \n",
       "66         NaN  109.0         39.0                                 Yes   \n",
       "\n",
       "   Swab_test_result Risk_of_contracting_virus  \n",
       "0          Positive                       Yes  \n",
       "1          Positive                       Yes  \n",
       "2          Positive                       Yes  \n",
       "3          Positive                       Yes  \n",
       "4          Positive                       Yes  \n",
       "..              ...                       ...  \n",
       "62         Positive                       Yes  \n",
       "63         Positive                       Yes  \n",
       "64         Positive                       Yes  \n",
       "65         Positive                       Yes  \n",
       "66         Positive                       Yes  \n",
       "\n",
       "[67 rows x 13 columns]"
      ]
     },
     "execution_count": 2,
     "metadata": {},
     "output_type": "execute_result"
    }
   ],
   "source": [
    "covid=pd.read_csv('covid_dataset.csv')\n",
    "covid"
   ]
  },
  {
   "cell_type": "code",
   "execution_count": 3,
   "metadata": {
    "colab": {
     "base_uri": "https://localhost:8080/"
    },
    "executionInfo": {
     "elapsed": 1676,
     "status": "ok",
     "timestamp": 1614530564268,
     "user": {
      "displayName": "Rutuja Vaidya",
      "photoUrl": "",
      "userId": "03357760852004195505"
     },
     "user_tz": -330
    },
    "id": "e02LQcwf8tfb",
    "outputId": "9364d4b3-3e19-4b69-9d1a-56aba10e2161"
   },
   "outputs": [
    {
     "name": "stdout",
     "output_type": "stream",
     "text": [
      "<class 'pandas.core.frame.DataFrame'>\n",
      "RangeIndex: 67 entries, 0 to 66\n",
      "Data columns (total 13 columns):\n",
      " #   Column                               Non-Null Count  Dtype  \n",
      "---  ------                               --------------  -----  \n",
      " 0   Case_No                              67 non-null     int64  \n",
      " 1   Gender                               60 non-null     object \n",
      " 2   Age                                  63 non-null     float64\n",
      " 3   S1_Cough                             67 non-null     object \n",
      " 4   S2_Fever                             67 non-null     object \n",
      " 5   S3_Dyspnea                           67 non-null     object \n",
      " 6   S4_Pneumonia                         14 non-null     object \n",
      " 7   S5_Asthenia                          8 non-null      object \n",
      " 8   pO2                                  27 non-null     float64\n",
      " 9   Temperature                          12 non-null     float64\n",
      " 10  Contact_with_COVID_positive_patient  29 non-null     object \n",
      " 11  Swab_test_result                     55 non-null     object \n",
      " 12  Risk_of_contracting_virus            56 non-null     object \n",
      "dtypes: float64(3), int64(1), object(9)\n",
      "memory usage: 4.5+ KB\n"
     ]
    }
   ],
   "source": [
    "covid.info()"
   ]
  },
  {
   "cell_type": "markdown",
   "metadata": {},
   "source": [
    "## Visualization for Dataset before impuation"
   ]
  },
  {
   "cell_type": "code",
   "execution_count": 4,
   "metadata": {
    "colab": {
     "base_uri": "https://localhost:8080/",
     "height": 576
    },
    "executionInfo": {
     "elapsed": 2119,
     "status": "ok",
     "timestamp": 1614530574165,
     "user": {
      "displayName": "Rutuja Vaidya",
      "photoUrl": "",
      "userId": "03357760852004195505"
     },
     "user_tz": -330
    },
    "id": "c8CKoJtDTCQU",
    "outputId": "af6a5f2c-faba-40f1-e5ed-a3d96bc93e87"
   },
   "outputs": [
    {
     "data": {
      "text/plain": [
       "<matplotlib.axes._subplots.AxesSubplot at 0x9b67390>"
      ]
     },
     "execution_count": 4,
     "metadata": {},
     "output_type": "execute_result"
    },
    {
     "data": {
      "image/png": "[encoded data removed]",
      "text/plain": [
       "<Figure size 864x432 with 3 Axes>"
      ]
     },
     "metadata": {
      "needs_background": "light"
     },
     "output_type": "display_data"
    }
   ],
   "source": [
    "import missingno as msno\n",
    "msno.bar(covid, figsize=(12, 6), fontsize=12, color='steelblue')"
   ]
  },
  {
   "cell_type": "code",
   "execution_count": 5,
   "metadata": {},
   "outputs": [
    {
     "data": {
      "text/plain": [
       "<matplotlib.axes._subplots.AxesSubplot at 0xabdb8f0>"
      ]
     },
     "execution_count": 5,
     "metadata": {},
     "output_type": "execute_result"
    },
    {
     "data": {
      "image/png": "[encoded data removed]",
      "text/plain": [
       "<Figure size 432x288 with 2 Axes>"
      ]
     },
     "metadata": {
      "needs_background": "light"
     },
     "output_type": "display_data"
    }
   ],
   "source": [
    "sns.heatmap(covid.isnull(),yticklabels=False,cmap='viridis')    ## Missing Values in the dataset"
   ]
  },
  {
   "cell_type": "code",
   "execution_count": 6,
   "metadata": {},
   "outputs": [
    {
     "data": {
      "text/plain": [
       "<matplotlib.axes._subplots.AxesSubplot at 0xac3f810>"
      ]
     },
     "execution_count": 6,
     "metadata": {},
     "output_type": "execute_result"
    },
    {
     "data": {
      "image/png": "[encoded data removed]",
      "text/plain": [
       "<Figure size 432x288 with 1 Axes>"
      ]
     },
     "metadata": {
      "needs_background": "light"
     },
     "output_type": "display_data"
    }
   ],
   "source": [
    "covid[\"Age\"].plot.hist()"
   ]
  },
  {
   "cell_type": "markdown",
   "metadata": {},
   "source": [
    "### From the above graph the max patients are from age group 60-70"
   ]
  },
  {
   "cell_type": "code",
   "execution_count": 7,
   "metadata": {},
   "outputs": [
    {
     "data": {
      "text/plain": [
       "<matplotlib.axes._subplots.AxesSubplot at 0xad355b0>"
      ]
     },
     "execution_count": 7,
     "metadata": {},
     "output_type": "execute_result"
    },
    {
     "data": {
      "image/png": "[encoded data removed]",
      "text/plain": [
       "<Figure size 432x288 with 1 Axes>"
      ]
     },
     "metadata": {
      "needs_background": "light"
     },
     "output_type": "display_data"
    }
   ],
   "source": [
    "sns.boxplot(x=\"Swab_test_result\", y=\"Age\", data=covid)"
   ]
  },
  {
   "cell_type": "markdown",
   "metadata": {},
   "source": [
    "### Max people are positive between age group 40-88"
   ]
  },
  {
   "cell_type": "code",
   "execution_count": 8,
   "metadata": {},
   "outputs": [
    {
     "data": {
      "text/plain": [
       "<matplotlib.axes._subplots.AxesSubplot at 0xafb8e50>"
      ]
     },
     "execution_count": 8,
     "metadata": {},
     "output_type": "execute_result"
    },
    {
     "data": {
      "image/png": "[encoded data removed]",
      "text/plain": [
       "<Figure size 1080x360 with 3 Axes>"
      ]
     },
     "metadata": {
      "needs_background": "light"
     },
     "output_type": "display_data"
    }
   ],
   "source": [
    "plt.figure(figsize=(15,5))\n",
    "plt.subplot(1,3,1)\n",
    "sns.countplot(x=\"S1_Cough\",data=covid)\n",
    "plt.subplot(1,3,2)\n",
    "sns.countplot(x=\"S2_Fever\",data=covid)\n",
    "plt.subplot(1,3,3)\n",
    "sns.countplot(x=\"S3_Dyspnea\",data=covid)"
   ]
  },
  {
   "cell_type": "code",
   "execution_count": 9,
   "metadata": {
    "executionInfo": {
     "elapsed": 1535,
     "status": "ok",
     "timestamp": 1614530578156,
     "user": {
      "displayName": "Rutuja Vaidya",
      "photoUrl": "",
      "userId": "03357760852004195505"
     },
     "user_tz": -330
    },
    "id": "TafI3lS59w8t"
   },
   "outputs": [],
   "source": [
    "covid.drop(['S4_Pneumonia','S5_Asthenia'],axis=1,inplace=True)"
   ]
  },
  {
   "cell_type": "code",
   "execution_count": 10,
   "metadata": {
    "colab": {
     "base_uri": "https://localhost:8080/"
    },
    "executionInfo": {
     "elapsed": 8235,
     "status": "ok",
     "timestamp": 1614530588842,
     "user": {
      "displayName": "Rutuja Vaidya",
      "photoUrl": "",
      "userId": "03357760852004195505"
     },
     "user_tz": -330
    },
    "id": "95dcotKUToo-",
    "outputId": "36a23c2a-6826-4359-9d87-b84536e3e532"
   },
   "outputs": [
    {
     "data": {
      "text/html": [
       "<div>\n",
       "<style scoped>\n",
       "    .dataframe tbody tr th:only-of-type {\n",
       "        vertical-align: middle;\n",
       "    }\n",
       "\n",
       "    .dataframe tbody tr th {\n",
       "        vertical-align: top;\n",
       "    }\n",
       "\n",
       "    .dataframe thead th {\n",
       "        text-align: right;\n",
       "    }\n",
       "</style>\n",
       "<table border=\"1\" class=\"dataframe\">\n",
       "  <thead>\n",
       "    <tr style=\"text-align: right;\">\n",
       "      <th></th>\n",
       "      <th>Case_No</th>\n",
       "      <th>Gender</th>\n",
       "      <th>Age</th>\n",
       "      <th>S1_Cough</th>\n",
       "      <th>S2_Fever</th>\n",
       "      <th>S3_Dyspnea</th>\n",
       "      <th>pO2</th>\n",
       "      <th>Temperature</th>\n",
       "      <th>Contact_with_COVID_positive_patient</th>\n",
       "      <th>Swab_test_result</th>\n",
       "      <th>Risk_of_contracting_virus</th>\n",
       "    </tr>\n",
       "  </thead>\n",
       "  <tbody>\n",
       "    <tr>\n",
       "      <th>0</th>\n",
       "      <td>1</td>\n",
       "      <td>M</td>\n",
       "      <td>80</td>\n",
       "      <td>No</td>\n",
       "      <td>Yes</td>\n",
       "      <td>Yes</td>\n",
       "      <td>NaN</td>\n",
       "      <td>NaN</td>\n",
       "      <td>NaN</td>\n",
       "      <td>Positive</td>\n",
       "      <td>Yes</td>\n",
       "    </tr>\n",
       "    <tr>\n",
       "      <th>1</th>\n",
       "      <td>2</td>\n",
       "      <td>M</td>\n",
       "      <td>62</td>\n",
       "      <td>Yes</td>\n",
       "      <td>Yes</td>\n",
       "      <td>No</td>\n",
       "      <td>97.0</td>\n",
       "      <td>NaN</td>\n",
       "      <td>NaN</td>\n",
       "      <td>Positive</td>\n",
       "      <td>Yes</td>\n",
       "    </tr>\n",
       "    <tr>\n",
       "      <th>2</th>\n",
       "      <td>3</td>\n",
       "      <td>M</td>\n",
       "      <td>57</td>\n",
       "      <td>Yes</td>\n",
       "      <td>Yes</td>\n",
       "      <td>No</td>\n",
       "      <td>NaN</td>\n",
       "      <td>NaN</td>\n",
       "      <td>NaN</td>\n",
       "      <td>Positive</td>\n",
       "      <td>Yes</td>\n",
       "    </tr>\n",
       "    <tr>\n",
       "      <th>3</th>\n",
       "      <td>4</td>\n",
       "      <td>M</td>\n",
       "      <td>45</td>\n",
       "      <td>Yes</td>\n",
       "      <td>Yes</td>\n",
       "      <td>No</td>\n",
       "      <td>NaN</td>\n",
       "      <td>NaN</td>\n",
       "      <td>NaN</td>\n",
       "      <td>Positive</td>\n",
       "      <td>Yes</td>\n",
       "    </tr>\n",
       "    <tr>\n",
       "      <th>4</th>\n",
       "      <td>5</td>\n",
       "      <td>M</td>\n",
       "      <td>63</td>\n",
       "      <td>Yes</td>\n",
       "      <td>Yes</td>\n",
       "      <td>No</td>\n",
       "      <td>NaN</td>\n",
       "      <td>NaN</td>\n",
       "      <td>NaN</td>\n",
       "      <td>Positive</td>\n",
       "      <td>Yes</td>\n",
       "    </tr>\n",
       "    <tr>\n",
       "      <th>...</th>\n",
       "      <td>...</td>\n",
       "      <td>...</td>\n",
       "      <td>...</td>\n",
       "      <td>...</td>\n",
       "      <td>...</td>\n",
       "      <td>...</td>\n",
       "      <td>...</td>\n",
       "      <td>...</td>\n",
       "      <td>...</td>\n",
       "      <td>...</td>\n",
       "      <td>...</td>\n",
       "    </tr>\n",
       "    <tr>\n",
       "      <th>62</th>\n",
       "      <td>63</td>\n",
       "      <td>M</td>\n",
       "      <td>57</td>\n",
       "      <td>Yes</td>\n",
       "      <td>Yes</td>\n",
       "      <td>Yes</td>\n",
       "      <td>90.0</td>\n",
       "      <td>39.0</td>\n",
       "      <td>No</td>\n",
       "      <td>Positive</td>\n",
       "      <td>Yes</td>\n",
       "    </tr>\n",
       "    <tr>\n",
       "      <th>63</th>\n",
       "      <td>64</td>\n",
       "      <td>M</td>\n",
       "      <td>74</td>\n",
       "      <td>No</td>\n",
       "      <td>No</td>\n",
       "      <td>No</td>\n",
       "      <td>94.0</td>\n",
       "      <td>NaN</td>\n",
       "      <td>Yes</td>\n",
       "      <td>Positive</td>\n",
       "      <td>Yes</td>\n",
       "    </tr>\n",
       "    <tr>\n",
       "      <th>64</th>\n",
       "      <td>65</td>\n",
       "      <td>F</td>\n",
       "      <td>71</td>\n",
       "      <td>No</td>\n",
       "      <td>Yes</td>\n",
       "      <td>Yes</td>\n",
       "      <td>93.0</td>\n",
       "      <td>NaN</td>\n",
       "      <td>Yes</td>\n",
       "      <td>Positive</td>\n",
       "      <td>Yes</td>\n",
       "    </tr>\n",
       "    <tr>\n",
       "      <th>65</th>\n",
       "      <td>66</td>\n",
       "      <td>M</td>\n",
       "      <td>83</td>\n",
       "      <td>Yes</td>\n",
       "      <td>Yes</td>\n",
       "      <td>No</td>\n",
       "      <td>95.0</td>\n",
       "      <td>NaN</td>\n",
       "      <td>NaN</td>\n",
       "      <td>Positive</td>\n",
       "      <td>Yes</td>\n",
       "    </tr>\n",
       "    <tr>\n",
       "      <th>66</th>\n",
       "      <td>67</td>\n",
       "      <td>M</td>\n",
       "      <td>77</td>\n",
       "      <td>No</td>\n",
       "      <td>No</td>\n",
       "      <td>No</td>\n",
       "      <td>109.0</td>\n",
       "      <td>39.0</td>\n",
       "      <td>Yes</td>\n",
       "      <td>Positive</td>\n",
       "      <td>Yes</td>\n",
       "    </tr>\n",
       "  </tbody>\n",
       "</table>\n",
       "<p>67 rows × 11 columns</p>\n",
       "</div>"
      ],
      "text/plain": [
       "    Case_No Gender  Age S1_Cough S2_Fever S3_Dyspnea    pO2  Temperature  \\\n",
       "0         1      M   80       No      Yes        Yes    NaN          NaN   \n",
       "1         2      M   62      Yes      Yes         No   97.0          NaN   \n",
       "2         3      M   57      Yes      Yes         No    NaN          NaN   \n",
       "3         4      M   45      Yes      Yes         No    NaN          NaN   \n",
       "4         5      M   63      Yes      Yes         No    NaN          NaN   \n",
       "..      ...    ...  ...      ...      ...        ...    ...          ...   \n",
       "62       63      M   57      Yes      Yes        Yes   90.0         39.0   \n",
       "63       64      M   74       No       No         No   94.0          NaN   \n",
       "64       65      F   71       No      Yes        Yes   93.0          NaN   \n",
       "65       66      M   83      Yes      Yes         No   95.0          NaN   \n",
       "66       67      M   77       No       No         No  109.0         39.0   \n",
       "\n",
       "   Contact_with_COVID_positive_patient Swab_test_result  \\\n",
       "0                                  NaN         Positive   \n",
       "1                                  NaN         Positive   \n",
       "2                                  NaN         Positive   \n",
       "3                                  NaN         Positive   \n",
       "4                                  NaN         Positive   \n",
       "..                                 ...              ...   \n",
       "62                                  No         Positive   \n",
       "63                                 Yes         Positive   \n",
       "64                                 Yes         Positive   \n",
       "65                                 NaN         Positive   \n",
       "66                                 Yes         Positive   \n",
       "\n",
       "   Risk_of_contracting_virus  \n",
       "0                        Yes  \n",
       "1                        Yes  \n",
       "2                        Yes  \n",
       "3                        Yes  \n",
       "4                        Yes  \n",
       "..                       ...  \n",
       "62                       Yes  \n",
       "63                       Yes  \n",
       "64                       Yes  \n",
       "65                       Yes  \n",
       "66                       Yes  \n",
       "\n",
       "[67 rows x 11 columns]"
      ]
     },
     "execution_count": 10,
     "metadata": {},
     "output_type": "execute_result"
    }
   ],
   "source": [
    "#Age \n",
    "covid['Age'].fillna(covid['Age'].median(),inplace=True)\n",
    "covid.astype({'Age':'int32'})\n",
    "# covid.Age.isnull().sum()"
   ]
  },
  {
   "cell_type": "code",
   "execution_count": 11,
   "metadata": {
    "executionInfo": {
     "elapsed": 1833,
     "status": "ok",
     "timestamp": 1614530594521,
     "user": {
      "displayName": "Rutuja Vaidya",
      "photoUrl": "",
      "userId": "03357760852004195505"
     },
     "user_tz": -330
    },
    "id": "z_NumNpV9Fe1"
   },
   "outputs": [],
   "source": [
    "covid['pO2']=covid['pO2'].interpolate(limit_direction=\"backward\")\n",
    "covid['Temperature']=covid['Temperature'].interpolate(limit_direction=\"backward\")"
   ]
  },
  {
   "cell_type": "code",
   "execution_count": 12,
   "metadata": {
    "executionInfo": {
     "elapsed": 2052,
     "status": "ok",
     "timestamp": 1614530600040,
     "user": {
      "displayName": "Rutuja Vaidya",
      "photoUrl": "",
      "userId": "03357760852004195505"
     },
     "user_tz": -330
    },
    "id": "ogHrZzrfnaiu"
   },
   "outputs": [],
   "source": [
    "new_data=covid"
   ]
  },
  {
   "cell_type": "code",
   "execution_count": 13,
   "metadata": {
    "executionInfo": {
     "elapsed": 1264,
     "status": "ok",
     "timestamp": 1614530602088,
     "user": {
      "displayName": "Rutuja Vaidya",
      "photoUrl": "",
      "userId": "03357760852004195505"
     },
     "user_tz": -330
    },
    "id": "0u1BsnsPrMsv"
   },
   "outputs": [],
   "source": [
    "# from sklearn.impute import SimpleImputer\n",
    "# imputer = SimpleImputer(missing_values=np.NaN, strategy='median')"
   ]
  },
  {
   "cell_type": "code",
   "execution_count": 14,
   "metadata": {
    "executionInfo": {
     "elapsed": 1833,
     "status": "ok",
     "timestamp": 1614530605539,
     "user": {
      "displayName": "Rutuja Vaidya",
      "photoUrl": "",
      "userId": "03357760852004195505"
     },
     "user_tz": -330
    },
    "id": "y8AiMwWAtItQ"
   },
   "outputs": [],
   "source": [
    "# new_data.pO2 = imputer.fit_transform(new_data['pO2'].values.reshape(-1,1))[:,0]\n",
    "# imputed_data=pd.DataFrame(imputer.fit_transform(new_data))"
   ]
  },
  {
   "cell_type": "code",
   "execution_count": 15,
   "metadata": {
    "executionInfo": {
     "elapsed": 1820,
     "status": "ok",
     "timestamp": 1614530608416,
     "user": {
      "displayName": "Rutuja Vaidya",
      "photoUrl": "",
      "userId": "03357760852004195505"
     },
     "user_tz": -330
    },
    "id": "FS27Lm9lzd6E"
   },
   "outputs": [],
   "source": [
    "from sklearn.experimental import enable_iterative_imputer  # noqa\n",
    "# now you can import normally from sklearn.impute\n",
    "from sklearn.impute import IterativeImputer\n",
    "from sklearn.ensemble import ExtraTreesRegressor\n",
    "#from sklearn.neighbors import KNeighborsRegressor\n",
    "from sklearn.preprocessing import OrdinalEncoder"
   ]
  },
  {
   "cell_type": "code",
   "execution_count": 16,
   "metadata": {
    "executionInfo": {
     "elapsed": 1737,
     "status": "ok",
     "timestamp": 1614530612362,
     "user": {
      "displayName": "Rutuja Vaidya",
      "photoUrl": "",
      "userId": "03357760852004195505"
     },
     "user_tz": -330
    },
    "id": "DVFJTMoO89WU"
   },
   "outputs": [],
   "source": [
    "encoder = OrdinalEncoder()\n",
    "imputer = IterativeImputer(ExtraTreesRegressor())\n",
    "columns=['Gender','S1_Cough','S2_Fever','S3_Dyspnea','Contact_with_COVID_positive_patient','Swab_test_result','Risk_of_contracting_virus']\n",
    "def encode(data):\n",
    "    '''function to encode non-null data and replace it in the original data'''\n",
    "    #retains only non-null values\n",
    "    nonulls = np.array(data.dropna())\n",
    "    #reshapes the data for encoding\n",
    "    impute_reshape = nonulls.reshape(-1,1)\n",
    "    #encode date\n",
    "    impute_ordinal = encoder.fit_transform(impute_reshape)\n",
    "    #Assign back encoded values to non-null values\n",
    "    data.loc[data.notnull()] = np.squeeze(impute_ordinal)\n",
    "for columns in columns:\n",
    "    encode(new_data[columns])"
   ]
  },
  {
   "cell_type": "code",
   "execution_count": 17,
   "metadata": {
    "executionInfo": {
     "elapsed": 4841,
     "status": "ok",
     "timestamp": 1614530620557,
     "user": {
      "displayName": "Rutuja Vaidya",
      "photoUrl": "",
      "userId": "03357760852004195505"
     },
     "user_tz": -330
    },
    "id": "WRqf_BWEBMJs"
   },
   "outputs": [],
   "source": [
    "cols=['Gender','Contact_with_COVID_positive_patient','Swab_test_result','Risk_of_contracting_virus']\n",
    "encode_data = pd.DataFrame(np.round(imputer.fit_transform(new_data.iloc[:,[1,8,9,10]])),columns = cols)\n",
    "for c in cols:\n",
    "  new_data[c]=encode_data[c]"
   ]
  },
  {
   "cell_type": "code",
   "execution_count": 18,
   "metadata": {
    "colab": {
     "base_uri": "https://localhost:8080/"
    },
    "executionInfo": {
     "elapsed": 2193,
     "status": "ok",
     "timestamp": 1614530624134,
     "user": {
      "displayName": "Rutuja Vaidya",
      "photoUrl": "",
      "userId": "03357760852004195505"
     },
     "user_tz": -330
    },
    "id": "vOEG_GXaBg2j",
    "outputId": "dc6fbe0f-e599-487f-8721-c8e94f78dd28"
   },
   "outputs": [
    {
     "name": "stdout",
     "output_type": "stream",
     "text": [
      "<class 'pandas.core.frame.DataFrame'>\n",
      "RangeIndex: 67 entries, 0 to 66\n",
      "Data columns (total 11 columns):\n",
      " #   Column                               Non-Null Count  Dtype  \n",
      "---  ------                               --------------  -----  \n",
      " 0   Case_No                              67 non-null     int64  \n",
      " 1   Gender                               67 non-null     float64\n",
      " 2   Age                                  67 non-null     float64\n",
      " 3   S1_Cough                             67 non-null     float64\n",
      " 4   S2_Fever                             67 non-null     float64\n",
      " 5   S3_Dyspnea                           67 non-null     float64\n",
      " 6   pO2                                  67 non-null     float64\n",
      " 7   Temperature                          67 non-null     float64\n",
      " 8   Contact_with_COVID_positive_patient  67 non-null     float64\n",
      " 9   Swab_test_result                     67 non-null     float64\n",
      " 10  Risk_of_contracting_virus            67 non-null     float64\n",
      "dtypes: float64(10), int64(1)\n",
      "memory usage: 5.8 KB\n"
     ]
    }
   ],
   "source": [
    "new_data.astype({'Gender':int,'Contact_with_COVID_positive_patient':int,'Swab_test_result':int,'Risk_of_contracting_virus':int})\n",
    "new_data.info()"
   ]
  },
  {
   "cell_type": "code",
   "execution_count": 19,
   "metadata": {
    "colab": {
     "base_uri": "https://localhost:8080/",
     "height": 0
    },
    "executionInfo": {
     "elapsed": 2605,
     "status": "ok",
     "timestamp": 1614532666792,
     "user": {
      "displayName": "Rutuja Vaidya",
      "photoUrl": "",
      "userId": "03357760852004195505"
     },
     "user_tz": -330
    },
    "id": "KZ61pbRaoOCv",
    "outputId": "41e40df2-144d-4df4-f0f6-bd65792b547a"
   },
   "outputs": [
    {
     "data": {
      "text/plain": [
       "',Case_No,Gender,Age,S1_Cough,S2_Fever,S3_Dyspnea,pO2,Temperature,Contact_with_COVID_positive_patient,Swab_test_result,Risk_of_contracting_virus\\r\\n0,1,1.0,80.0,0.0,1.0,1.0,97.0,37.5,1.0,1.0,1.0\\r\\n1,2,1.0,62.0,1.0,1.0,0.0,97.0,37.5,1.0,1.0,1.0\\r\\n2,3,1.0,57.0,1.0,1.0,0.0,91.05,37.5,1.0,1.0,1.0\\r\\n3,4,1.0,45.0,1.0,1.0,0.0,85.1,37.5,1.0,1.0,1.0\\r\\n4,5,1.0,63.0,1.0,1.0,0.0,79.15,37.5,1.0,1.0,1.0\\r\\n5,6,0.0,32.0,1.0,1.0,0.0,73.2,37.5,1.0,1.0,1.0\\r\\n6,7,1.0,43.0,1.0,1.0,0.0,67.25,37.5,1.0,1.0,1.0\\r\\n7,8,0.0,67.0,1.0,1.0,0.0,61.3,37.5,1.0,1.0,1.0\\r\\n8,9,0.0,73.0,0.0,1.0,0.0,68.64,37.5,1.0,1.0,1.0\\r\\n9,10,1.0,60.0,0.0,1.0,0.0,75.98,37.5,1.0,1.0,1.0\\r\\n10,11,1.0,55.0,0.0,1.0,0.0,83.32,37.5,1.0,1.0,1.0\\r\\n11,12,1.0,58.0,1.0,0.0,0.0,90.66,37.5,1.0,1.0,1.0\\r\\n12,13,0.0,61.0,1.0,1.0,0.0,98.0,37.8,1.0,0.0,1.0\\r\\n13,14,1.0,50.0,1.0,1.0,0.0,93.0,38.0,0.0,0.0,1.0\\r\\n14,15,0.0,46.0,0.0,0.0,0.0,98.0,38.199999999999996,1.0,0.0,1.0\\r\\n15,16,1.0,62.0,1.0,1.0,0.0,97.83333333333333,38.4,0.0,1.0,1.0\\r\\n16,17,1.0,80.0,1.0,1.0,1.0,97.66666666666667,38.6,0.0,0.0,0.0\\r\\n17,18,1.0,62.0,1.0,1.0,1.0,97.5,38.8,0.0,1.0,1.0\\r\\n18,19,1.0,62.0,1.0,1.0,0.0,97.33333333333333,39.0,0.0,1.0,1.0\\r\\n19,20,1.0,75.0,1.0,1.0,0.0,97.16666666666667,38.4,0.0,1.0,1.0\\r\\n20,21,1.0,71.0,1.0,1.0,0.0,97.0,37.8,0.0,1.0,1.0\\r\\n21,22,0.0,69.0,0.0,0.0,0.0,96.0,36.5,1.0,1.0,1.0\\r\\n22,23,1.0,27.0,0.0,0.0,0.0,92.0,36.708333333333336,0.0,1.0,1.0\\r\\n23,24,0.0,78.0,0.0,0.0,0.0,50.0,36.916666666666664,1.0,1.0,1.0\\r\\n24,25,0.0,71.0,0.0,0.0,0.0,97.0,37.125,0.0,1.0,1.0\\r\\n25,26,0.0,55.0,0.0,0.0,1.0,70.0,37.333333333333336,1.0,1.0,1.0\\r\\n26,27,0.0,58.0,0.0,1.0,1.0,73.125,37.541666666666664,1.0,1.0,1.0\\r\\n27,28,0.0,48.0,1.0,0.0,0.0,76.25,37.75,1.0,1.0,1.0\\r\\n28,29,1.0,68.0,0.0,1.0,1.0,79.375,37.958333333333336,1.0,1.0,1.0\\r\\n29,30,1.0,64.0,1.0,1.0,1.0,82.5,38.166666666666664,1.0,1.0,1.0\\r\\n30,31,1.0,63.0,0.0,1.0,0.0,85.625,38.375,1.0,1.0,1.0\\r\\n31,32,1.0,43.0,0.0,1.0,0.0,88.75,38.583333333333336,1.0,1.0,1.0\\r\\n32,33,1.0,55.0,1.0,1.0,0.0,91.875,38.791666666666664,1.0,1.0,1.0\\r\\n33,34,1.0,47.0,1.0,1.0,0.0,95.0,39.0,1.0,1.0,1.0\\r\\n34,35,1.0,63.0,0.0,0.0,0.0,94.25,38.475,0.0,1.0,1.0\\r\\n35,36,1.0,76.0,0.0,0.0,0.0,93.5,37.95,1.0,1.0,1.0\\r\\n36,37,1.0,87.0,1.0,1.0,1.0,92.75,37.425,1.0,1.0,1.0\\r\\n37,38,0.0,72.0,0.0,1.0,0.0,92.0,36.9,1.0,1.0,1.0\\r\\n38,39,0.0,62.0,1.0,1.0,0.0,92.75,37.7,1.0,1.0,1.0\\r\\n39,40,1.0,53.0,0.0,0.0,0.0,93.5,38.5,0.0,1.0,1.0\\r\\n40,41,1.0,73.0,0.0,0.0,1.0,94.25,38.5,1.0,1.0,1.0\\r\\n41,42,1.0,87.0,1.0,0.0,1.0,95.0,38.5,1.0,1.0,1.0\\r\\n42,43,0.0,82.0,0.0,0.0,1.0,89.5,38.5,1.0,1.0,1.0\\r\\n43,44,1.0,65.0,1.0,1.0,0.0,84.0,38.5,1.0,1.0,1.0\\r\\n44,45,1.0,79.0,1.0,1.0,0.0,91.0,38.5,1.0,1.0,1.0\\r\\n45,46,1.0,61.0,0.0,1.0,1.0,98.0,38.5,1.0,1.0,1.0\\r\\n46,47,1.0,61.0,0.0,0.0,1.0,88.4,38.53125,1.0,1.0,1.0\\r\\n47,48,1.0,84.0,0.0,1.0,0.0,78.8,38.5625,1.0,1.0,1.0\\r\\n48,49,1.0,60.0,0.0,1.0,0.0,69.2,38.59375,1.0,1.0,1.0\\r\\n49,50,0.0,55.0,1.0,1.0,1.0,59.6,38.625,1.0,0.0,0.0\\r\\n50,51,1.0,57.0,0.0,1.0,1.0,50.0,38.65625,0.0,1.0,1.0\\r\\n51,52,1.0,78.0,1.0,1.0,0.0,84.0,38.6875,1.0,1.0,1.0\\r\\n52,53,1.0,62.0,1.0,0.0,1.0,76.5,38.71875,1.0,1.0,1.0\\r\\n53,54,0.0,65.0,1.0,0.0,0.0,69.0,38.75,0.0,1.0,1.0\\r\\n54,55,0.0,53.0,0.0,1.0,0.0,66.0,38.78125,1.0,1.0,1.0\\r\\n55,56,1.0,40.0,0.0,1.0,1.0,63.0,38.8125,1.0,1.0,1.0\\r\\n56,57,1.0,60.0,0.0,1.0,1.0,73.66666666666667,38.84375,1.0,1.0,1.0\\r\\n57,58,1.0,30.0,0.0,1.0,1.0,84.33333333333333,38.875,1.0,1.0,1.0\\r\\n58,59,1.0,30.0,0.0,1.0,1.0,95.0,38.90625,1.0,1.0,1.0\\r\\n59,60,1.0,70.0,0.0,1.0,0.0,96.0,38.9375,1.0,1.0,1.0\\r\\n60,61,1.0,56.0,0.0,1.0,0.0,97.0,38.96875,1.0,1.0,1.0\\r\\n61,62,1.0,49.0,0.0,1.0,0.0,93.5,39.0,1.0,1.0,1.0\\r\\n62,63,1.0,57.0,1.0,1.0,1.0,90.0,39.0,0.0,1.0,1.0\\r\\n63,64,1.0,74.0,0.0,0.0,0.0,94.0,39.0,1.0,1.0,1.0\\r\\n64,65,0.0,71.0,0.0,1.0,1.0,93.0,39.0,1.0,1.0,1.0\\r\\n65,66,1.0,83.0,1.0,1.0,0.0,95.0,39.0,1.0,1.0,1.0\\r\\n66,67,1.0,77.0,0.0,0.0,0.0,109.0,39.0,1.0,1.0,1.0\\r\\n'"
      ]
     },
     "execution_count": 19,
     "metadata": {},
     "output_type": "execute_result"
    }
   ],
   "source": [
    "new_data.to_csv()"
   ]
  },
  {
   "cell_type": "markdown",
   "metadata": {},
   "source": [
    "## Visualization for Dataset before impuation"
   ]
  },
  {
   "cell_type": "code",
   "execution_count": 20,
   "metadata": {},
   "outputs": [
    {
     "data": {
      "text/plain": [
       "<matplotlib.axes._subplots.AxesSubplot at 0xb9e2ad0>"
      ]
     },
     "execution_count": 20,
     "metadata": {},
     "output_type": "execute_result"
    },
    {
     "data": {
      "image/png": "[encoded data removed]",
      "text/plain": [
       "<Figure size 864x432 with 3 Axes>"
      ]
     },
     "metadata": {
      "needs_background": "light"
     },
     "output_type": "display_data"
    }
   ],
   "source": [
    "import missingno as msno\n",
    "msno.bar(new_data, figsize=(12, 6), fontsize=12, color='steelblue')"
   ]
  },
  {
   "cell_type": "code",
   "execution_count": 21,
   "metadata": {},
   "outputs": [
    {
     "data": {
      "text/plain": [
       "<matplotlib.axes._subplots.AxesSubplot at 0xba93730>"
      ]
     },
     "execution_count": 21,
     "metadata": {},
     "output_type": "execute_result"
    },
    {
     "data": {
      "image/png": "[encoded data removed]",
      "text/plain": [
       "<Figure size 432x288 with 2 Axes>"
      ]
     },
     "metadata": {
      "needs_background": "light"
     },
     "output_type": "display_data"
    }
   ],
   "source": [
    "sns.heatmap(new_data.isnull(),yticklabels=False,cmap='viridis')    ## Missing Values in the dataset"
   ]
  },
  {
   "cell_type": "markdown",
   "metadata": {},
   "source": [
    "### From the above 2 graphs we can conclude no any missing values are left to be filled."
   ]
  },
  {
   "cell_type": "code",
   "execution_count": 22,
   "metadata": {},
   "outputs": [
    {
     "data": {
      "text/plain": [
       "<matplotlib.axes._subplots.AxesSubplot at 0xbb05bf0>"
      ]
     },
     "execution_count": 22,
     "metadata": {},
     "output_type": "execute_result"
    },
    {
     "data": {
      "image/png": "[encoded data removed]",
      "text/plain": [
       "<Figure size 432x288 with 1 Axes>"
      ]
     },
     "metadata": {
      "needs_background": "light"
     },
     "output_type": "display_data"
    }
   ],
   "source": [
    "sns.boxplot(x=\"Swab_test_result\", y=\"Age\", data=new_data)"
   ]
  },
  {
   "cell_type": "markdown",
   "metadata": {},
   "source": [
    "### After Filling we can observe the differece of values changes."
   ]
  },
  {
   "cell_type": "code",
   "execution_count": 23,
   "metadata": {},
   "outputs": [
    {
     "data": {
      "text/plain": [
       "<matplotlib.axes._subplots.AxesSubplot at 0xbde1c10>"
      ]
     },
     "execution_count": 23,
     "metadata": {},
     "output_type": "execute_result"
    },
    {
     "data": {
      "image/png": "[encoded data removed]",
      "text/plain": [
       "<Figure size 1080x360 with 3 Axes>"
      ]
     },
     "metadata": {
      "needs_background": "light"
     },
     "output_type": "display_data"
    }
   ],
   "source": [
    "plt.figure(figsize=(15,5))\n",
    "plt.subplot(1,3,1)\n",
    "sns.countplot(x=\"S1_Cough\",data=new_data)\n",
    "plt.subplot(1,3,2)\n",
    "sns.countplot(x=\"S2_Fever\",data=new_data)\n",
    "plt.subplot(1,3,3)\n",
    "sns.countplot(x=\"S3_Dyspnea\",data=new_data)"
   ]
  },
  {
   "cell_type": "markdown",
   "metadata": {},
   "source": [
    "## Training & Testing of Data (Logistic Regre)"
   ]
  },
  {
   "cell_type": "code",
   "execution_count": 24,
   "metadata": {},
   "outputs": [],
   "source": [
    "X=new_data.drop([\"Contact_with_COVID_positive_patient\",\"Case_No\"],axis=1)\n",
    "y=new_data[\"Contact_with_COVID_positive_patient\"]"
   ]
  },
  {
   "cell_type": "code",
   "execution_count": 25,
   "metadata": {},
   "outputs": [],
   "source": [
    "from sklearn.model_selection import train_test_split"
   ]
  },
  {
   "cell_type": "code",
   "execution_count": 26,
   "metadata": {},
   "outputs": [],
   "source": [
    "X_train, X_test, y_train, y_test = train_test_split(X, y, test_size=0.3, random_state=1)"
   ]
  },
  {
   "cell_type": "code",
   "execution_count": 27,
   "metadata": {},
   "outputs": [],
   "source": [
    "from sklearn.linear_model import LogisticRegression"
   ]
  },
  {
   "cell_type": "code",
   "execution_count": 28,
   "metadata": {},
   "outputs": [],
   "source": [
    "logmodel=LogisticRegression(max_iter=1000)"
   ]
  },
  {
   "cell_type": "code",
   "execution_count": 29,
   "metadata": {},
   "outputs": [
    {
     "data": {
      "text/plain": [
       "LogisticRegression(C=1.0, class_weight=None, dual=False, fit_intercept=True,\n",
       "                   intercept_scaling=1, l1_ratio=None, max_iter=1000,\n",
       "                   multi_class='warn', n_jobs=None, penalty='l2',\n",
       "                   random_state=None, solver='warn', tol=0.0001, verbose=0,\n",
       "                   warm_start=False)"
      ]
     },
     "execution_count": 29,
     "metadata": {},
     "output_type": "execute_result"
    }
   ],
   "source": [
    "logmodel.fit(X_train,y_train)"
   ]
  },
  {
   "cell_type": "code",
   "execution_count": 30,
   "metadata": {},
   "outputs": [],
   "source": [
    "predictions=logmodel.predict(X_test)"
   ]
  },
  {
   "cell_type": "code",
   "execution_count": 31,
   "metadata": {},
   "outputs": [],
   "source": [
    "from sklearn.metrics import classification_report"
   ]
  },
  {
   "cell_type": "code",
   "execution_count": 32,
   "metadata": {},
   "outputs": [
    {
     "name": "stdout",
     "output_type": "stream",
     "text": [
      "              precision    recall  f1-score   support\n",
      "\n",
      "         0.0       0.00      0.00      0.00         2\n",
      "         1.0       0.90      1.00      0.95        19\n",
      "\n",
      "    accuracy                           0.90        21\n",
      "   macro avg       0.45      0.50      0.48        21\n",
      "weighted avg       0.82      0.90      0.86        21\n",
      "\n"
     ]
    }
   ],
   "source": [
    "r = classification_report(y_test,predictions)\n",
    "print(r)"
   ]
  },
  {
   "cell_type": "code",
   "execution_count": 33,
   "metadata": {},
   "outputs": [
    {
     "data": {
      "text/plain": [
       "0.9047619047619048"
      ]
     },
     "execution_count": 33,
     "metadata": {},
     "output_type": "execute_result"
    }
   ],
   "source": [
    "logmodel.score(X_test,y_test)"
   ]
  },
  {
   "cell_type": "code",
   "execution_count": 34,
   "metadata": {},
   "outputs": [
    {
     "data": {
      "text/plain": [
       "Text(0, 0.5, 'Temprature Level')"
      ]
     },
     "execution_count": 34,
     "metadata": {},
     "output_type": "execute_result"
    },
    {
     "data": {
      "image/png": "[encoded data removed]",
      "text/plain": [
       "<Figure size 720x360 with 2 Axes>"
      ]
     },
     "metadata": {
      "needs_background": "light"
     },
     "output_type": "display_data"
    }
   ],
   "source": [
    "plt.figure(figsize=(10,5))\n",
    "plt.subplot(1,2,1)\n",
    "plt.scatter(new_data.Contact_with_COVID_positive_patient,new_data.pO2,marker='+',color=\"red\")\n",
    "plt.xlabel(\"Contact with covid positive\")\n",
    "plt.ylabel(\"pO2 Level\")\n",
    "plt.subplot(1,2,2)\n",
    "plt.scatter(new_data.Contact_with_COVID_positive_patient,new_data.Temperature,marker='+',color=\"blue\")\n",
    "plt.xlabel(\"Contact with covid positive\")\n",
    "plt.ylabel(\"Temprature Level\")"
   ]
  },
  {
   "cell_type": "markdown",
   "metadata": {},
   "source": [
    "### The first plot shows is how the pO2 affects the COVID-19 Patient condition.\n",
    "### The second plot indicates the person with/without Covid temprature levels."
   ]
  },
  {
   "cell_type": "markdown",
   "metadata": {},
   "source": [
    "## To Calculate Accuracy"
   ]
  },
  {
   "cell_type": "code",
   "execution_count": 35,
   "metadata": {},
   "outputs": [],
   "source": [
    "from sklearn.metrics import confusion_matrix"
   ]
  },
  {
   "cell_type": "code",
   "execution_count": 36,
   "metadata": {},
   "outputs": [
    {
     "data": {
      "text/plain": [
       "array([[ 0,  2],\n",
       "       [ 0, 19]], dtype=int64)"
      ]
     },
     "execution_count": 36,
     "metadata": {},
     "output_type": "execute_result"
    }
   ],
   "source": [
    "confusion_matrix(y_test,predictions)"
   ]
  },
  {
   "cell_type": "code",
   "execution_count": 37,
   "metadata": {},
   "outputs": [],
   "source": [
    "from sklearn.metrics import accuracy_score,precision_score,recall_score,f1_score"
   ]
  },
  {
   "cell_type": "code",
   "execution_count": 38,
   "metadata": {},
   "outputs": [
    {
     "data": {
      "text/plain": [
       "0.9047619047619048"
      ]
     },
     "execution_count": 38,
     "metadata": {},
     "output_type": "execute_result"
    }
   ],
   "source": [
    "precision_score(y_test,predictions)"
   ]
  },
  {
   "cell_type": "code",
   "execution_count": 39,
   "metadata": {},
   "outputs": [
    {
     "data": {
      "text/plain": [
       "1.0"
      ]
     },
     "execution_count": 39,
     "metadata": {},
     "output_type": "execute_result"
    }
   ],
   "source": [
    "recall_score(y_test,predictions)"
   ]
  },
  {
   "cell_type": "code",
   "execution_count": 40,
   "metadata": {},
   "outputs": [
    {
     "data": {
      "text/plain": [
       "0.9500000000000001"
      ]
     },
     "execution_count": 40,
     "metadata": {},
     "output_type": "execute_result"
    }
   ],
   "source": [
    "f1_score(y_test,predictions)"
   ]
  },
  {
   "cell_type": "code",
   "execution_count": 41,
   "metadata": {},
   "outputs": [
    {
     "data": {
      "text/plain": [
       "0.9047619047619048"
      ]
     },
     "execution_count": 41,
     "metadata": {},
     "output_type": "execute_result"
    }
   ],
   "source": [
    "accuracy_score(y_test,predictions)"
   ]
  },
  {
   "cell_type": "code",
   "execution_count": 42,
   "metadata": {},
   "outputs": [],
   "source": [
    "from sklearn.metrics import roc_auc_score,roc_curve\n",
    "LROC = roc_auc_score(y_test,predictions)\n",
    "fpr,tpr,threshold = roc_curve(y_test,logmodel.predict_proba(X_test)[:,1])"
   ]
  },
  {
   "cell_type": "code",
   "execution_count": 43,
   "metadata": {},
   "outputs": [
    {
     "data": {
      "image/png": "[encoded data removed]",
      "text/plain": [
       "<Figure size 432x288 with 1 Axes>"
      ]
     },
     "metadata": {
      "needs_background": "light"
     },
     "output_type": "display_data"
    }
   ],
   "source": [
    "plt.figure()\n",
    "plt.plot(fpr,tpr,label=\"Logistic Model 1 (area=%0.2f)\" % LROC)\n",
    "plt.plot([0,1],[0,1],\"r--\")\n",
    "plt.xlim([-0.05,1.05])\n",
    "plt.ylim([-0.05,1.05])\n",
    "plt.xlabel(\"False +ve Rate\")\n",
    "plt.ylabel(\"True +ve Rate\")\n",
    "plt.title(\"Receiver Operating Characteristics\")\n",
    "plt.legend(loc=\"lower right\")\n",
    "plt.show()"
   ]
  },
  {
   "cell_type": "code",
   "execution_count": 44,
   "metadata": {},
   "outputs": [
    {
     "name": "stdout",
     "output_type": "stream",
     "text": [
      "[1.]\n"
     ]
    }
   ],
   "source": [
    "print(logmodel.predict(([[0,55,1,1,1,59.6,38.625,1,0]])))"
   ]
  },
  {
   "cell_type": "code",
   "execution_count": 45,
   "metadata": {},
   "outputs": [
    {
     "name": "stdout",
     "output_type": "stream",
     "text": [
      "    Gender   Age  S1_Cough  S2_Fever  S3_Dyspnea        pO2  Temperature  \\\n",
      "62     1.0  57.0       1.0       1.0         1.0  90.000000    39.000000   \n",
      "27     0.0  48.0       1.0       0.0         0.0  76.250000    37.750000   \n",
      "53     0.0  65.0       1.0       0.0         0.0  69.000000    38.750000   \n",
      "21     0.0  69.0       0.0       0.0         0.0  96.000000    36.500000   \n",
      "26     0.0  58.0       0.0       1.0         1.0  73.125000    37.541667   \n",
      "35     1.0  76.0       0.0       0.0         0.0  93.500000    37.950000   \n",
      "2      1.0  57.0       1.0       1.0         0.0  91.050000    37.500000   \n",
      "43     1.0  65.0       1.0       1.0         0.0  84.000000    38.500000   \n",
      "49     0.0  55.0       1.0       1.0         1.0  59.600000    38.625000   \n",
      "31     1.0  43.0       0.0       1.0         0.0  88.750000    38.583333   \n",
      "59     1.0  70.0       0.0       1.0         0.0  96.000000    38.937500   \n",
      "40     1.0  73.0       0.0       0.0         1.0  94.250000    38.500000   \n",
      "57     1.0  30.0       0.0       1.0         1.0  84.333333    38.875000   \n",
      "47     1.0  84.0       0.0       1.0         0.0  78.800000    38.562500   \n",
      "38     0.0  62.0       1.0       1.0         0.0  92.750000    37.700000   \n",
      "33     1.0  47.0       1.0       1.0         0.0  95.000000    39.000000   \n",
      "46     1.0  61.0       0.0       0.0         1.0  88.400000    38.531250   \n",
      "48     1.0  60.0       0.0       1.0         0.0  69.200000    38.593750   \n",
      "44     1.0  79.0       1.0       1.0         0.0  91.000000    38.500000   \n",
      "54     0.0  53.0       0.0       1.0         0.0  66.000000    38.781250   \n",
      "3      1.0  45.0       1.0       1.0         0.0  85.100000    37.500000   \n",
      "\n",
      "    Swab_test_result  Risk_of_contracting_virus  \n",
      "62               1.0                        1.0  \n",
      "27               1.0                        1.0  \n",
      "53               1.0                        1.0  \n",
      "21               1.0                        1.0  \n",
      "26               1.0                        1.0  \n",
      "35               1.0                        1.0  \n",
      "2                1.0                        1.0  \n",
      "43               1.0                        1.0  \n",
      "49               0.0                        0.0  \n",
      "31               1.0                        1.0  \n",
      "59               1.0                        1.0  \n",
      "40               1.0                        1.0  \n",
      "57               1.0                        1.0  \n",
      "47               1.0                        1.0  \n",
      "38               1.0                        1.0  \n",
      "33               1.0                        1.0  \n",
      "46               1.0                        1.0  \n",
      "48               1.0                        1.0  \n",
      "44               1.0                        1.0  \n",
      "54               1.0                        1.0  \n",
      "3                1.0                        1.0  \n"
     ]
    }
   ],
   "source": [
    "print(X_test)"
   ]
  },
  {
   "cell_type": "code",
   "execution_count": 46,
   "metadata": {},
   "outputs": [
    {
     "data": {
      "text/plain": [
       "(21, 9)"
      ]
     },
     "execution_count": 46,
     "metadata": {},
     "output_type": "execute_result"
    }
   ],
   "source": [
    "X_test.shape"
   ]
  },
  {
   "cell_type": "code",
   "execution_count": 47,
   "metadata": {},
   "outputs": [],
   "source": [
    "posi = new_data[new_data['Risk_of_contracting_virus']==1]\n",
    "nega = new_data[new_data['Risk_of_contracting_virus']==0]"
   ]
  },
  {
   "cell_type": "code",
   "execution_count": 48,
   "metadata": {},
   "outputs": [
    {
     "name": "stdout",
     "output_type": "stream",
     "text": [
      "(65, 11) (2, 11)\n"
     ]
    }
   ],
   "source": [
    "print(posi.shape,nega.shape)"
   ]
  },
  {
   "cell_type": "markdown",
   "metadata": {},
   "source": [
    "## Oversampling of the data"
   ]
  },
  {
   "cell_type": "code",
   "execution_count": 52,
   "metadata": {},
   "outputs": [],
   "source": [
    "from imblearn.combine import SMOTETomek\n"
   ]
  },
  {
   "cell_type": "code",
   "execution_count": 53,
   "metadata": {},
   "outputs": [],
   "source": [
    "smk = SMOTETomek(random_state=42)\n",
    "X_res,y_res=smk.fit_sample(X,y)"
   ]
  },
  {
   "cell_type": "code",
   "execution_count": 54,
   "metadata": {},
   "outputs": [
    {
     "data": {
      "text/plain": [
       "((96, 9), (96,))"
      ]
     },
     "execution_count": 54,
     "metadata": {},
     "output_type": "execute_result"
    }
   ],
   "source": [
    "X_res.shape,y_res.shape"
   ]
  },
  {
   "cell_type": "code",
   "execution_count": 58,
   "metadata": {},
   "outputs": [
    {
     "name": "stdout",
     "output_type": "stream",
     "text": [
      "Original: Counter({1.0: 53, 0.0: 14})\n",
      "Resampled: Counter({1.0: 48, 0.0: 48})\n"
     ]
    }
   ],
   "source": [
    "from collections import Counter\n",
    "print(\"Original: {}\".format(Counter(y)))\n",
    "print(\"Resampled: {}\".format(Counter(y_res)))"
   ]
  },
  {
   "cell_type": "markdown",
   "metadata": {},
   "source": [
    "## Filling Unbalenced Dataset"
   ]
  },
  {
   "cell_type": "code",
   "execution_count": 59,
   "metadata": {},
   "outputs": [],
   "source": [
    "from imblearn.over_sampling import RandomOverSampler"
   ]
  },
  {
   "cell_type": "code",
   "execution_count": 60,
   "metadata": {},
   "outputs": [],
   "source": [
    "os = RandomOverSampler(ratio=1)"
   ]
  },
  {
   "cell_type": "code",
   "execution_count": 61,
   "metadata": {},
   "outputs": [],
   "source": [
    "X_train_res,y_train_res = os.fit_sample(X,y)"
   ]
  },
  {
   "cell_type": "code",
   "execution_count": 62,
   "metadata": {},
   "outputs": [
    {
     "data": {
      "text/plain": [
       "((106, 9), (106,))"
      ]
     },
     "execution_count": 62,
     "metadata": {},
     "output_type": "execute_result"
    }
   ],
   "source": [
    "X_train_res.shape,y_train_res.shape"
   ]
  },
  {
   "cell_type": "code",
   "execution_count": 63,
   "metadata": {},
   "outputs": [
    {
     "name": "stdout",
     "output_type": "stream",
     "text": [
      "Original: Counter({1.0: 53, 0.0: 14})\n",
      "Resampled: Counter({1.0: 48, 0.0: 48})\n"
     ]
    }
   ],
   "source": [
    "print(\"Original: {}\".format(Counter(y)))\n",
    "print(\"Resampled: {}\".format(Counter(y_res)))"
   ]
  },
  {
   "cell_type": "markdown",
   "metadata": {},
   "source": [
    "## Training & Testing Over Resampled Data"
   ]
  },
  {
   "cell_type": "code",
   "execution_count": 64,
   "metadata": {},
   "outputs": [],
   "source": [
    "X_train_1, X_test_1, y_train_1, y_test_1 = train_test_split(X_res, y_res, test_size=0.3, random_state=1)"
   ]
  },
  {
   "cell_type": "code",
   "execution_count": 65,
   "metadata": {},
   "outputs": [
    {
     "data": {
      "text/plain": [
       "LogisticRegression(C=1.0, class_weight=None, dual=False, fit_intercept=True,\n",
       "                   intercept_scaling=1, l1_ratio=None, max_iter=1000,\n",
       "                   multi_class='warn', n_jobs=None, penalty='l2',\n",
       "                   random_state=None, solver='warn', tol=0.0001, verbose=0,\n",
       "                   warm_start=False)"
      ]
     },
     "execution_count": 65,
     "metadata": {},
     "output_type": "execute_result"
    }
   ],
   "source": [
    "logmodel.fit(X_train_1,y_train_1)"
   ]
  },
  {
   "cell_type": "code",
   "execution_count": 66,
   "metadata": {},
   "outputs": [],
   "source": [
    "predictions_1=logmodel.predict(X_test_1)"
   ]
  },
  {
   "cell_type": "code",
   "execution_count": 72,
   "metadata": {},
   "outputs": [
    {
     "name": "stdout",
     "output_type": "stream",
     "text": [
      "              precision    recall  f1-score   support\n",
      "\n",
      "         0.0       0.50      0.77      0.61        13\n",
      "         1.0       0.67      0.38      0.48        16\n",
      "\n",
      "    accuracy                           0.55        29\n",
      "   macro avg       0.58      0.57      0.54        29\n",
      "weighted avg       0.59      0.55      0.54        29\n",
      "\n"
     ]
    }
   ],
   "source": [
    "r = classification_report(y_test_1,predictions_1)\n",
    "print(r)"
   ]
  },
  {
   "cell_type": "code",
   "execution_count": 68,
   "metadata": {},
   "outputs": [
    {
     "data": {
      "text/plain": [
       "array([[10,  3],\n",
       "       [10,  6]], dtype=int64)"
      ]
     },
     "execution_count": 68,
     "metadata": {},
     "output_type": "execute_result"
    }
   ],
   "source": [
    "confusion_matrix(y_test_1,predictions_1)"
   ]
  },
  {
   "cell_type": "code",
   "execution_count": 74,
   "metadata": {},
   "outputs": [
    {
     "name": "stdout",
     "output_type": "stream",
     "text": [
      "[0.]\n"
     ]
    }
   ],
   "source": [
    "print(logmodel.predict(([[0,55,1,1,1,97.66666667,38.6,0,0]])))"
   ]
  },
  {
   "cell_type": "code",
   "execution_count": null,
   "metadata": {},
   "outputs": [],
   "source": []
  }
 ],
 "metadata": {
  "colab": {
   "authorship_tag": "ABX9TyO3kGKIEgtX36dj8enxEc1A",
   "collapsed_sections": [],
   "name": "Covid.ipynb",
   "provenance": []
  },
  "kernelspec": {
   "display_name": "Python 3",
   "language": "python",
   "name": "python3"
  },
  "language_info": {
   "codemirror_mode": {
    "name": "ipython",
    "version": 3
   },
   "file_extension": ".py",
   "mimetype": "text/x-python",
   "name": "python",
   "nbconvert_exporter": "python",
   "pygments_lexer": "ipython3",
   "version": "3.7.6"
  }
 },
 "nbformat": 4,
 "nbformat_minor": 1
}
